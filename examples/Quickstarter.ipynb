{
 "cells": [
  {
   "cell_type": "markdown",
   "id": "0d390aee",
   "metadata": {},
   "source": [
    "# CellTK Quickstarter\n",
    "\n",
    "This notebook will walk through the general features of CellTK. Start by setting the correct path and importing CellTK."
   ]
  },
  {
   "cell_type": "code",
   "execution_count": 1,
   "id": "16aa465b",
   "metadata": {},
   "outputs": [],
   "source": [
    "import os\n",
    "import sys\n",
    "sys.path.insert(0, os.path.abspath('..'))\n",
    "\n",
    "import celltk as ctk"
   ]
  },
  {
   "cell_type": "markdown",
   "id": "3e653619",
   "metadata": {},
   "source": [
    "The **Pipeline** is used to apply a series of **Operations** to the images captured by the microscope. For this example, point it to the path for some example images. *verbose* is True so that more feedback is shown to the user."
   ]
  },
  {
   "cell_type": "code",
   "execution_count": 2,
   "id": "226a8f26",
   "metadata": {
    "scrolled": false
   },
   "outputs": [
    {
     "name": "stderr",
     "output_type": "stream",
     "text": [
      "2022-06-04 11:23:51,874 - Pipeline - INFO: Pipeline initiated.\n",
      "2022-06-04 11:23:51,876 - Pipeline - INFO: Pipeline: <celltk.core.pipeline.Pipeline object at 0x14b3633b0>.\n",
      "2022-06-04 11:23:51,877 - Pipeline - INFO: Parent folder: ../examples/live_cell_example/\n",
      "2022-06-04 11:23:51,878 - Pipeline - INFO: Output folder: ../examples/live_cell_example/outputs\n",
      "2022-06-04 11:23:51,879 - Pipeline - INFO: Image folder: ../examples/live_cell_example/\n",
      "2022-06-04 11:23:51,879 - Pipeline - INFO: Mask folder: ../examples/live_cell_example/outputs\n",
      "2022-06-04 11:23:51,880 - Pipeline - INFO: Array folder: ../examples/live_cell_example/outputs\n",
      "2022-06-04 11:23:51,881 - Pipeline - INFO: Other inputs: [('name', 'live_cell_example'), ('frame_rng', None), ('skip_frames', None), ('overwrite', True), ('log_file', True), ('file_extension', 'tif')]\n"
     ]
    }
   ],
   "source": [
    "pipe = ctk.Pipeline(parent_folder='../examples/live_cell_example/', verbose=True)"
   ]
  },
  {
   "cell_type": "markdown",
   "id": "80775644",
   "metadata": {},
   "source": [
    "The information above displays where the **Pipeline** will look for images, as well as some general settings.\n",
    "\n",
    "Next, define the image processing steps to complete on the images. In this example the image will first be processed by a convolutional neural net to predict the likelihood that a cell nucleus is present. This, and other preprocessing functions such as blurring, are in the **Process** operation.\n",
    "\n",
    "Initialize a **Process** instance and define the names of the images that the operation will apply to. In this example, *channel000* contains the nuclear marker and *channel001* contains the reporter. The file names contain these strings. The neural net is only applied to the nuclear marker, so only *channel000* needs to be passed.\n",
    "\n",
    "Finally, Tte neural net will take some time to run, so it is useful to save the images to a file to skip future runs that may be needed."
   ]
  },
  {
   "cell_type": "code",
   "execution_count": 3,
   "id": "b3bd24b2",
   "metadata": {},
   "outputs": [],
   "source": [
    "pro = ctk.Process(images=['channel000'], output='unet', save=True, force_rerun=False)"
   ]
  },
  {
   "cell_type": "markdown",
   "id": "68d963cd",
   "metadata": {},
   "source": [
    "Next, add functions to the operation that will be run on the images. *unet_predict* is the function for the convolutional neural net. Different weights can be passed using *weight_path*, but there are also default weights that can be used."
   ]
  },
  {
   "cell_type": "code",
   "execution_count": 4,
   "id": "fb83fb3c",
   "metadata": {},
   "outputs": [],
   "source": [
    "pro.add_function('unet_predict', weight_path='../celltk/config/unet_example_cell_weights.tf')"
   ]
  },
  {
   "cell_type": "markdown",
   "id": "35384d7b",
   "metadata": {},
   "source": [
    "The output name can be used to pass this output to future operations. Next, **Segment** is used to identify individual cell nuclei."
   ]
  },
  {
   "cell_type": "code",
   "execution_count": 5,
   "id": "8c74c97a",
   "metadata": {},
   "outputs": [],
   "source": [
    "seg = ctk.Segment(images=['unet'], output='seg', save=True, force_rerun=False)\n",
    "seg.add_function('constant_thres', thres=0.8)\n",
    "seg.add_function('clean_labels', min_radius=3, relabel=True)"
   ]
  },
  {
   "cell_type": "markdown",
   "id": "885df4d5",
   "metadata": {},
   "source": [
    "**Track** is used to connect the segmented objects from frame to frame. Note that the output from the **Segment** operation is saved as a *mask* and needs to be passed to future operations as such."
   ]
  },
  {
   "cell_type": "code",
   "execution_count": 6,
   "id": "17c146fb",
   "metadata": {},
   "outputs": [],
   "source": [
    "tra = ctk.Track(images=['channel000'], masks=['seg'], output='nuc', save=True, force_rerun=False)\n",
    "tra.add_function('kit_sch_ge_tracker')"
   ]
  },
  {
   "cell_type": "markdown",
   "id": "2dd4e5e1",
   "metadata": {},
   "source": [
    "Finally, **Extract** will get the data from the tracked regions in the images. The output from **Extract** will be an array that will be indexed with the names defining *regions*, *channels*, and *metrics*.  There is a default set of metrics (e.g. area, median_intensity) that will be extracted. Other metrics from skimage.regionprops custom metric functions can be added using **Extract.add_extra_metric**. "
   ]
  },
  {
   "cell_type": "code",
   "execution_count": 7,
   "id": "a760d93b",
   "metadata": {},
   "outputs": [],
   "source": [
    "ext = ctk.Extract(images=['channel000', 'channel001'], masks=['nuc'], regions=['nuc'], \n",
    "                    channels=['tritc', 'fitc'], time=10, min_trace_length=5, force_rerun=True)"
   ]
  },
  {
   "cell_type": "markdown",
   "id": "9bbde1f7",
   "metadata": {},
   "source": [
    "Also available are *derived metrics*. *Derived metrics* refer to calculations that are done with data extracted from the images. For example, a common normalization strategy is to divide the reporter intensity by the marker intensity. The keys index the data in the same way that they will be indexed in the final data structure. *func* can by any *numpy* function."
   ]
  },
  {
   "cell_type": "code",
   "execution_count": 8,
   "id": "9d98c489",
   "metadata": {},
   "outputs": [],
   "source": [
    "ext.add_derived_metric('median_ratio',\n",
    "                       keys=(['nuc', 'fitc', 'median_intensity'],\n",
    "                             ['nuc', 'tritc', 'median_intensity']),\n",
    "                       func='divide', inverse=True, propagate=True)"
   ]
  },
  {
   "cell_type": "markdown",
   "id": "cc2b5eda",
   "metadata": {},
   "source": [
    "The processing pipeline is now fully defined. The operation objects are passed to the **Pipeline**, which will run the images in the folder through the operations. "
   ]
  },
  {
   "cell_type": "code",
   "execution_count": 9,
   "id": "977e96a1",
   "metadata": {
    "scrolled": false
   },
   "outputs": [
    {
     "name": "stderr",
     "output_type": "stream",
     "text": [
      "2022-06-04 11:23:51,923 - Pipeline - INFO: Added 4 operations.\n",
      "Current operation list: [<celltk.process.Process object at 0x14b397a00>, <celltk.segment.Segment object at 0x14b3a83a0>, <celltk.track.Track object at 0x14b3a89a0>, <celltk.extract.Extract object at 0x14b3a8550>].\n",
      "2022-06-04 11:23:51,925 - Pipeline - INFO: Expected inputs: [[('channel000', 'image'), ('unet', 'image')], [('unet', 'image'), ('seg', 'mask')], [('channel000', 'image'), ('seg', 'mask'), ('nuc', 'mask')], [('channel000', 'image'), ('channel001', 'image'), ('nuc', 'mask')]]\n",
      "2022-06-04 11:23:51,926 - Pipeline - INFO: Exected outputs: [[('unet', 'image')], [('seg', 'mask')], [('nuc', 'mask')], [('data_frame', 'array'), ('data_frame', 'array')]]\n",
      "2022-06-04 11:23:51,930 - Pipeline - INFO: Looking for nuc of type mask in ../examples/live_cell_example/outputs.\n",
      "2022-06-04 11:23:51,931 - Pipeline - INFO: Found 0 images.\n",
      "2022-06-04 11:23:51,932 - Pipeline - INFO: Looking for channel000 of type image in ../examples/live_cell_example/.\n",
      "2022-06-04 11:23:51,934 - Pipeline - INFO: Found 6 images.\n",
      "2022-06-04 11:23:51,999 - Pipeline - INFO: Images loaded. shape: (6, 720, 853), type: uint16, key: ('channel000', 'image').\n",
      "2022-06-04 11:23:52,000 - Pipeline - INFO: Looking for unet of type image in ../examples/live_cell_example/.\n",
      "2022-06-04 11:23:52,002 - Pipeline - INFO: Found 0 images.\n",
      "2022-06-04 11:23:52,003 - Pipeline - INFO: Looking for unet of type image in ../examples/live_cell_example/outputs.\n",
      "2022-06-04 11:23:52,004 - Pipeline - INFO: Found 0 images.\n",
      "2022-06-04 11:23:52,005 - Pipeline - INFO: Looking for seg of type mask in ../examples/live_cell_example/outputs.\n",
      "2022-06-04 11:23:52,006 - Pipeline - INFO: Found 0 images.\n",
      "2022-06-04 11:23:52,007 - Pipeline - INFO: Looking for channel001 of type image in ../examples/live_cell_example/.\n",
      "2022-06-04 11:23:52,009 - Pipeline - INFO: Found 6 images.\n",
      "2022-06-04 11:23:52,074 - Pipeline - INFO: Images loaded. shape: (6, 720, 853), type: uint16, key: ('channel001', 'image').\n",
      "2022-06-04 11:23:52,075 - Pipeline - INFO: Images loaed: [[('channel000', 'image'), ('channel001', 'image')]].\n",
      "2022-06-04 11:23:52,076 - Pipeline - INFO: Process at 0x14b397a00: (\"i:['channel000']\", 'm:[]', 'a:[]') -> unet_predict(weight_path=../celltk/config/unet_example_cell_weights.tf) -> image:unet\n",
      "2022-06-04 11:23:52,077 - Pipeline.Process - INFO: Operation Process at 0x14b397a00 entered.\n",
      "2022-06-04 11:23:52,078 - Pipeline.Process - INFO: image:['channel000']\n",
      "2022-06-04 11:23:52,079 - Pipeline.Process - INFO: mask:[]\n",
      "2022-06-04 11:23:52,080 - Pipeline.Process - INFO: array:[]\n",
      "2022-06-04 11:23:52,080 - Pipeline.Process - INFO: Output ID: ('unet', 'image')\n",
      "2022-06-04 11:23:52,081 - Pipeline.Process - INFO: Starting function unet_predict\n",
      "2022-06-04 11:23:52,082 - Pipeline.Process - INFO: All Inputs: [(('channel000', 'image'), (6, 720, 853), dtype('uint16'))]\n",
      "2022-06-04 11:23:52,082 - Pipeline.Process - INFO: kwargs: {'weight_path': '../celltk/config/unet_example_cell_weights.tf'}\n",
      "2022-06-04 11:23:52,083 - Pipeline.Process - INFO: output type: image. save as: None\n",
      "2022-06-04 11:23:52,088 - Pipeline.Process.ImageHelper - INFO: ImageHelper called for unet_predict\n",
      "2022-06-04 11:23:52,089 - Pipeline.Process.ImageHelper - INFO: by_frame: False, as_tuple: False\n",
      "2022-06-04 11:23:52,090 - Pipeline.Process.ImageHelper - INFO: Function accepts: ['image']\n",
      "2022-06-04 11:23:52,091 - Pipeline.Process.ImageHelper - INFO: Selected inputs: [(('channel000', 'image'), ((6, 720, 853), dtype('uint16')))] for kwargs: ['image']\n",
      "2022-06-04 11:23:52.115219: I tensorflow/core/platform/cpu_feature_guard.cc:151] This TensorFlow binary is optimized with oneAPI Deep Neural Network Library (oneDNN) to use the following CPU instructions in performance-critical operations:  AVX2 FMA\n",
      "To enable them in other operations, rebuild TensorFlow with the appropriate compiler flags.\n",
      "2022-06-04 11:24:09,388 - py.warnings - WARNING: /Users/sjeknic/Documents/Stanford_University/Covert_Lab/git_reps/CellTK2/celltk/utils/unet_model.py:338: RuntimeWarning: invalid value encountered in true_divide\n",
      "  image[i, ...] = image[i, ...] / image[i, ...].sum(-1)[..., None]\n",
      "\n",
      "2022-06-04 11:24:09,509 - Pipeline.Process - INFO: Returned: [('channel000', 'image')], [((6, 720, 853), dtype('float32'))]\n",
      "2022-06-04 11:24:09,510 - Pipeline.Process - INFO: Returning to the Pipeline: ('unet', 'image'), (6, 720, 853), float32\n",
      "2022-06-04 11:24:09,510 - Pipeline.Process - INFO: Adding to save container: unet image, (6, 720, 853)\n",
      "2022-06-04 11:24:09,511 - Pipeline.Process - INFO: unet_predict execution time: 17.427035093307495\n",
      "2022-06-04 11:24:09,511 - Pipeline.Process - INFO: Returning to pipeline: [(('channel000', 'image'), (6, 720, 853), dtype('uint16')), (('unet', 'image'), (6, 720, 853), dtype('float32'))]\n",
      "2022-06-04 11:24:09,571 - Pipeline - INFO: Saved 6 images in ../examples/live_cell_example/outputs/unet.\n",
      "2022-06-04 11:24:09,572 - Pipeline.Process - INFO: Process execution time: 17.49516201019287\n",
      "2022-06-04 11:24:09,573 - Pipeline - INFO: Segment at 0x14b3a83a0: (\"i:['unet']\", 'm:[]', 'a:[]') -> constant_thres(thres=0.8) -> clean_labels(min_radius=3, relabel=True) -> mask:seg\n",
      "2022-06-04 11:24:09,574 - Pipeline.Segment - INFO: Operation Segment at 0x14b3a83a0 entered.\n",
      "2022-06-04 11:24:09,575 - Pipeline.Segment - INFO: image:['unet']\n",
      "2022-06-04 11:24:09,576 - Pipeline.Segment - INFO: mask:[]\n",
      "2022-06-04 11:24:09,576 - Pipeline.Segment - INFO: array:[]\n",
      "2022-06-04 11:24:09,577 - Pipeline.Segment - INFO: Output ID: ('seg', 'mask')\n",
      "2022-06-04 11:24:09,578 - Pipeline.Segment - INFO: Starting function constant_thres\n",
      "2022-06-04 11:24:09,578 - Pipeline.Segment - INFO: All Inputs: [(('unet', 'image'), (6, 720, 853), dtype('float32'))]\n",
      "2022-06-04 11:24:09,579 - Pipeline.Segment - INFO: kwargs: {'thres': 0.8}\n",
      "2022-06-04 11:24:09,580 - Pipeline.Segment - INFO: output type: mask. save as: None\n",
      "2022-06-04 11:24:09,592 - Pipeline.Segment.ImageHelper - INFO: ImageHelper called for constant_thres\n",
      "2022-06-04 11:24:09,592 - Pipeline.Segment.ImageHelper - INFO: by_frame: True, as_tuple: False\n",
      "2022-06-04 11:24:09,593 - Pipeline.Segment.ImageHelper - INFO: Function accepts: ['image']\n",
      "2022-06-04 11:24:09,594 - Pipeline.Segment.ImageHelper - INFO: Selected inputs: [(('unet', 'image'), ((6, 720, 853), dtype('float32')))] for kwargs: ['image']\n",
      "2022-06-04 11:24:09,600 - Pipeline.Segment - INFO: Returned: [('unet', 'mask')], [((6, 720, 853), dtype('uint8'))]\n",
      "2022-06-04 11:24:09,600 - Pipeline.Segment - INFO: constant_thres execution time: 0.02013993263244629\n",
      "2022-06-04 11:24:09,601 - Pipeline.Segment - INFO: Starting function clean_labels\n",
      "2022-06-04 11:24:09,602 - Pipeline.Segment - INFO: All Inputs: [(('unet', 'image'), (6, 720, 853), dtype('float32')), (('unet', 'mask'), (6, 720, 853), dtype('uint8'))]\n",
      "2022-06-04 11:24:09,603 - Pipeline.Segment - INFO: kwargs: {'min_radius': 3, 'relabel': True}\n",
      "2022-06-04 11:24:09,603 - Pipeline.Segment - INFO: output type: mask. save as: None\n",
      "2022-06-04 11:24:09,614 - Pipeline.Segment.ImageHelper - INFO: ImageHelper called for clean_labels\n",
      "2022-06-04 11:24:09,615 - Pipeline.Segment.ImageHelper - INFO: by_frame: True, as_tuple: False\n",
      "2022-06-04 11:24:09,616 - Pipeline.Segment.ImageHelper - INFO: Function accepts: ['mask']\n",
      "2022-06-04 11:24:09,618 - Pipeline.Segment.ImageHelper - INFO: Selected inputs: [(('unet', 'mask'), ((6, 720, 853), dtype('uint8')))] for kwargs: ['mask']\n",
      "2022-06-04 11:24:09,720 - py.warnings - WARNING: /Users/sjeknic/.pyenv/versions/3.8.6/envs/sjeknic386/lib/python3.8/site-packages/skimage/_shared/utils.py:157: UserWarning: Only one label was provided to `remove_small_objects`. Did you mean to use a boolean array?\n",
      "  return func(*args, **kwargs)\n",
      "\n",
      "2022-06-04 11:24:09,749 - py.warnings - WARNING: /Users/sjeknic/.pyenv/versions/3.8.6/envs/sjeknic386/lib/python3.8/site-packages/skimage/util/dtype.py:492: UserWarning: Downcasting int64 to uint16 without scaling because max value 0 fits in uint16\n",
      "  return _convert(image, np.uint16, force_copy)\n",
      "\n",
      "2022-06-04 11:24:10,325 - Pipeline.Segment - INFO: Returned: [('unet', 'mask')], [((6, 720, 853), dtype('uint16'))]\n",
      "2022-06-04 11:24:10,326 - Pipeline.Segment - INFO: Returning to the Pipeline: ('seg', 'mask'), (6, 720, 853), uint16\n"
     ]
    },
    {
     "name": "stderr",
     "output_type": "stream",
     "text": [
      "2022-06-04 11:24:10,327 - Pipeline.Segment - INFO: Adding to save container: seg mask, (6, 720, 853)\n",
      "2022-06-04 11:24:10,327 - Pipeline.Segment - INFO: clean_labels execution time: 0.7225940227508545\n",
      "2022-06-04 11:24:10,328 - Pipeline.Segment - INFO: Returning to pipeline: [(('seg', 'mask'), (6, 720, 853), dtype('uint16'))]\n",
      "2022-06-04 11:24:10,361 - Pipeline - INFO: Saved 6 images in ../examples/live_cell_example/outputs/seg.\n",
      "2022-06-04 11:24:10,362 - Pipeline.Segment - INFO: Segment execution time: 0.7885780334472656\n",
      "2022-06-04 11:24:10,363 - Pipeline - INFO: Track at 0x14b3a89a0: (\"i:['channel000']\", \"m:['seg']\", 'a:[]') -> kit_sch_ge_tracker() -> mask:nuc\n",
      "2022-06-04 11:24:10,364 - Pipeline.Track - INFO: Operation Track at 0x14b3a89a0 entered.\n",
      "2022-06-04 11:24:10,364 - Pipeline.Track - INFO: image:['channel000']\n",
      "2022-06-04 11:24:10,365 - Pipeline.Track - INFO: mask:['seg']\n",
      "2022-06-04 11:24:10,366 - Pipeline.Track - INFO: array:[]\n",
      "2022-06-04 11:24:10,367 - Pipeline.Track - INFO: Output ID: ('nuc', 'mask')\n",
      "2022-06-04 11:24:10,368 - Pipeline.Track - INFO: Starting function kit_sch_ge_tracker\n",
      "2022-06-04 11:24:10,369 - Pipeline.Track - INFO: All Inputs: [(('channel000', 'image'), (6, 720, 853), dtype('uint16')), (('seg', 'mask'), (6, 720, 853), dtype('uint16'))]\n",
      "2022-06-04 11:24:10,369 - Pipeline.Track - INFO: kwargs: {}\n",
      "2022-06-04 11:24:10,371 - Pipeline.Track - INFO: output type: mask. save as: None\n",
      "2022-06-04 11:24:10,377 - Pipeline.Track.ImageHelper - INFO: ImageHelper called for kit_sch_ge_tracker\n",
      "2022-06-04 11:24:10,378 - Pipeline.Track.ImageHelper - INFO: by_frame: False, as_tuple: False\n",
      "2022-06-04 11:24:10,378 - Pipeline.Track.ImageHelper - INFO: Function accepts: ['image', 'mask']\n",
      "2022-06-04 11:24:10,379 - Pipeline.Track.ImageHelper - INFO: Selected inputs: [(('channel000', 'image'), ((6, 720, 853), dtype('uint16'))), (('seg', 'mask'), ((6, 720, 853), dtype('uint16')))] for kwargs: ['image', 'mask']\n",
      "2022-06-04 11:24:10,387 - Pipeline.Track - INFO: Returned: [('channel000', 'mask')], [((6, 720, 853), dtype('uint16'))]\n",
      "2022-06-04 11:24:10,388 - Pipeline.Track - INFO: Returning to the Pipeline: ('nuc', 'mask'), (6, 720, 853), uint16\n",
      "2022-06-04 11:24:10,390 - Pipeline.Track - INFO: Adding to save container: nuc mask, (6, 720, 853)\n",
      "2022-06-04 11:24:10,391 - Pipeline.Track - INFO: kit_sch_ge_tracker execution time: 0.019199132919311523\n",
      "2022-06-04 11:24:10,393 - Pipeline.Track - INFO: Returning to pipeline: [(('seg', 'mask'), (6, 720, 853), dtype('uint16')), (('nuc', 'mask'), (6, 720, 853), dtype('uint16'))]\n",
      "2022-06-04 11:24:10,426 - Pipeline - INFO: Saved 6 images in ../examples/live_cell_example/outputs/nuc.\n",
      "2022-06-04 11:24:10,427 - Pipeline.Track - INFO: Track execution time: 0.06317496299743652\n",
      "2022-06-04 11:24:10,428 - Pipeline - INFO: Extract at 0x14b3a8550: (\"i:['channel000', 'channel001']\", \"m:['nuc']\", 'a:[]') -> extract_data_from_image(images=['channel000', 'channel001'], masks=['nuc'], channels=['tritc', 'fitc'], regions=['nuc'], lineages=[], condition=condition, min_trace_length=5, remove_parent=True, position_id=0, skip_frames=(), time=10) -> array:data_frame\n",
      "2022-06-04 11:24:10,430 - Pipeline.Extract - INFO: Operation Extract at 0x14b3a8550 entered.\n",
      "2022-06-04 11:24:10,431 - Pipeline.Extract - INFO: image:['channel000', 'channel001']\n",
      "2022-06-04 11:24:10,432 - Pipeline.Extract - INFO: mask:['nuc']\n",
      "2022-06-04 11:24:10,433 - Pipeline.Extract - INFO: array:[]\n",
      "2022-06-04 11:24:10,434 - Pipeline.Extract - INFO: Output ID: ('data_frame', 'array')\n",
      "2022-06-04 11:24:10,435 - Pipeline.Extract - INFO: Channels: [('tritc', 'channel000'), ('fitc', 'channel001')]\n",
      "2022-06-04 11:24:10,436 - Pipeline.Extract - INFO: Regions: [('nuc', 'nuc')]\n",
      "2022-06-04 11:24:10,437 - Pipeline.Extract - INFO: Metrics: ['label', 'area', 'convex_area', 'filled_area', 'bbox', 'centroid', 'mean_intensity', 'max_intensity', 'min_intensity', 'minor_axis_length', 'major_axis_length', 'orientation', 'perimeter', 'solidity']\n",
      "2022-06-04 11:24:10,438 - Pipeline.Extract - INFO: Added metrics: ['division_frame', 'parent_id', 'total_intensity', 'median_intensity', 'median_ratio']\n",
      "2022-06-04 11:24:10,440 - Pipeline.Extract - INFO: Condition: condition\n",
      "2022-06-04 11:24:10,441 - Pipeline.Extract - INFO: Skipped frames: ()\n",
      "2022-06-04 11:24:10,443 - Pipeline.Extract - INFO: Starting function extract_data_from_image\n",
      "2022-06-04 11:24:10,444 - Pipeline.Extract - INFO: All Inputs: [(('channel000', 'image'), (6, 720, 853), dtype('uint16')), (('channel001', 'image'), (6, 720, 853), dtype('uint16')), (('nuc', 'mask'), (6, 720, 853), dtype('uint16'))]\n",
      "2022-06-04 11:24:10,445 - Pipeline.Extract - INFO: kwargs: {'images': ['channel000', 'channel001'], 'masks': ['nuc'], 'channels': ['tritc', 'fitc'], 'regions': ['nuc'], 'lineages': [], 'condition': 'condition', 'min_trace_length': 5, 'remove_parent': True, 'position_id': 0, 'skip_frames': (), 'time': 10}\n",
      "2022-06-04 11:24:10,446 - Pipeline.Extract - INFO: output type: array. save as: data_frame\n",
      "2022-06-04 11:24:10,456 - Pipeline.Extract.ImageHelper - INFO: ImageHelper called for extract_data_from_image\n",
      "2022-06-04 11:24:10,457 - Pipeline.Extract.ImageHelper - INFO: by_frame: False, as_tuple: True\n",
      "2022-06-04 11:24:10,459 - Pipeline.Extract.ImageHelper - INFO: Function accepts: ['image', 'mask']\n",
      "2022-06-04 11:24:10,460 - Pipeline.Extract.ImageHelper - INFO: Selected inputs: [(('channel000', 'image'), ((6, 720, 853), dtype('uint16'))), (('channel001', 'image'), ((6, 720, 853), dtype('uint16'))), (('nuc', 'mask'), ((6, 720, 853), dtype('uint16')))] for kwargs: ['images', 'masks']\n",
      "2022-06-04 11:24:10,468 - py.warnings - WARNING: /Users/sjeknic/Documents/Stanford_University/Covert_Lab/git_reps/CellTK2/celltk/extract.py:92: UserWarning: Got mask but not lineage file.\n",
      "  warnings.warn('Got mask but not lineage file.', UserWarning)\n",
      "\n",
      "2022-06-04 11:24:10,471 - py.warnings - WARNING: /Users/sjeknic/Documents/Stanford_University/Covert_Lab/git_reps/CellTK2/celltk/extract.py:144: UserWarning: The following dimensions are missing: ['cells']\n",
      "  warnings.warn(f'The following dimensions are missing: {missing}')\n",
      "\n",
      "2022-06-04 11:24:13,261 - Pipeline.Extract - INFO: Removing cells with traces < 5 frames.\n",
      "2022-06-04 11:24:13,262 - Pipeline.Extract - INFO: Current array size: (1, 2, 23, 0, 6)\n",
      "2022-06-04 11:24:13,263 - Pipeline.Extract - INFO: Post-filter array size: (1, 2, 23, 0, 6)\n",
      "2022-06-04 11:24:13,263 - Pipeline.Extract - INFO: Calculating derived metric median_ratio\n",
      "2022-06-04 11:24:13,266 - Pipeline.Extract - INFO: Returned: [('data_frame', 'array')], [((1, 2, 23, 0, 6), dtype('float64'))]\n",
      "2022-06-04 11:24:13,267 - Pipeline.Extract - INFO: Returning to the Pipeline: ('data_frame', 'array'), (1, 2, 23, 0, 6), float64\n",
      "2022-06-04 11:24:13,268 - Pipeline.Extract - INFO: Adding to save container: data_frame array, (1, 2, 23, 0, 6)\n",
      "2022-06-04 11:24:13,269 - Pipeline.Extract - INFO: extract_data_from_image execution time: 2.8220949172973633\n",
      "2022-06-04 11:24:13,269 - Pipeline.Extract - INFO: Returning to pipeline: [(('data_frame', 'array'), (1, 2, 23, 0, 6), dtype('float64'))]\n",
      "2022-06-04 11:24:13,280 - Pipeline - INFO: Saved data frame at ../examples/live_cell_example/outputs/data_frame.hdf5. shape: (1, 2, 23, 0, 6), type: float64.\n",
      "2022-06-04 11:24:13,280 - Pipeline.Extract - INFO: Extract execution time: 2.850898265838623\n",
      "2022-06-04 11:24:13,284 - Pipeline - INFO: Total execution time: 21.359363079071045\n",
      "2022-06-04 11:24:13,285 - Pipeline - INFO: Pipeline completed.\n"
     ]
    },
    {
     "data": {
      "text/plain": [
       "<generator object Operation.run_operation at 0x14c30fac0>"
      ]
     },
     "execution_count": 9,
     "metadata": {},
     "output_type": "execute_result"
    }
   ],
   "source": [
    "pipe.add_operations([pro, seg, tra, ext])\n",
    "pipe.run()"
   ]
  },
  {
   "cell_type": "code",
   "execution_count": null,
   "id": "6908b0ef",
   "metadata": {},
   "outputs": [],
   "source": []
  }
 ],
 "metadata": {
  "kernelspec": {
   "display_name": "Python 3 (ipykernel)",
   "language": "python",
   "name": "python3"
  },
  "language_info": {
   "codemirror_mode": {
    "name": "ipython",
    "version": 3
   },
   "file_extension": ".py",
   "mimetype": "text/x-python",
   "name": "python",
   "nbconvert_exporter": "python",
   "pygments_lexer": "ipython3",
   "version": "3.8.6"
  }
 },
 "nbformat": 4,
 "nbformat_minor": 5
}
