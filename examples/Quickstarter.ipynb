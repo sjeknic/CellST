{
 "cells": [
  {
   "cell_type": "markdown",
   "id": "0d390aee",
   "metadata": {},
   "source": [
    "# CellTK Quickstarter\n",
    "\n",
    "This notebook will walk through the general features of CellTK. Start by setting the correct path and importing CellTK."
   ]
  },
  {
   "cell_type": "code",
   "execution_count": null,
   "id": "16aa465b",
   "metadata": {},
   "outputs": [],
   "source": [
    "import os\n",
    "import sys\n",
    "sys.path.insert(0, os.path.abspath('..'))\n",
    "\n",
    "import celltk as ctk"
   ]
  },
  {
   "cell_type": "markdown",
   "id": "3e653619",
   "metadata": {},
   "source": [
    "The **Pipeline** is used to apply a series of **Operations** to the images captured by the microscope. For this example, point it to the path for some example images. *verbose* is True so that more feedback is shown to the user."
   ]
  },
  {
   "cell_type": "code",
   "execution_count": null,
   "id": "226a8f26",
   "metadata": {
    "scrolled": false
   },
   "outputs": [],
   "source": [
    "pipe = ctk.Pipeline(parent_folder='../examples/live_cell_example/', verbose=True)"
   ]
  },
  {
   "cell_type": "markdown",
   "id": "80775644",
   "metadata": {},
   "source": [
    "The information above displays where the **Pipeline** will look for images, as well as some general settings.\n",
    "\n",
    "Next, define the image processing steps to complete on the images. In this example the image will first be processed by a convolutional neural net to predict the likelihood that a cell nucleus is present. This, and other preprocessing functions such as blurring, are in the **Process** operation.\n",
    "\n",
    "Initialize a **Process** instance and define the names of the images that the operation will apply to. In this example, *channel000* contains the nuclear marker and *channel001* contains the reporter. The file names contain these strings. The neural net is only applied to the nuclear marker, so only *channel000* needs to be passed.\n",
    "\n",
    "Finally, Tte neural net will take some time to run, so it is useful to save the images to a file to skip future runs that may be needed."
   ]
  },
  {
   "cell_type": "code",
   "execution_count": null,
   "id": "a36158ec",
   "metadata": {},
   "outputs": [],
   "source": [
    "pro = ctk.Process(images=['channel000'], output='unet', save=True, force_rerun=False)"
   ]
  },
  {
   "cell_type": "markdown",
   "id": "cb274b10",
   "metadata": {},
   "source": [
    "Next, add functions to the operation that will be run on the images. *unet_predict* is the function for the convolutional neural net. Different weights can be passed using *weight_path*, but there are also default weights that can be used."
   ]
  },
  {
   "cell_type": "code",
   "execution_count": null,
   "id": "89e10d23",
   "metadata": {},
   "outputs": [],
   "source": [
    "pro.add_function('unet_predict', weight_path='../celltk/config/unet_example_cell_weights.tf')"
   ]
  },
  {
   "cell_type": "markdown",
   "id": "32ab518d",
   "metadata": {},
   "source": [
    "The output name can be used to pass this output to future operations. Next, **Segment** is used to identify individual cell nuclei."
   ]
  },
  {
   "cell_type": "code",
   "execution_count": null,
   "id": "8c74c97a",
   "metadata": {},
   "outputs": [],
   "source": [
    "seg = ctk.Segment(images=['unet'], output='seg', save=True, force_rerun=False)\n",
    "seg.add_function('constant_thres', thres=0.8)\n",
    "seg.add_function('clean_labels', min_radius=3, relabel=True)"
   ]
  },
  {
   "cell_type": "markdown",
   "id": "ebf4aa3f",
   "metadata": {},
   "source": [
    "**Track** is used to connect the segmented objects from frame to frame. Note that the output from the **Segment** operation is saved as a *mask* and needs to be passed to future operations as such."
   ]
  },
  {
   "cell_type": "code",
   "execution_count": null,
   "id": "17c146fb",
   "metadata": {},
   "outputs": [],
   "source": [
    "tra = ctk.Track(images=['channel000'], masks=['seg'], output='nuc', save=True, force_rerun=False)\n",
    "tra.add_function('kit_sch_ge_tracker')"
   ]
  },
  {
   "cell_type": "markdown",
   "id": "2dd4e5e1",
   "metadata": {},
   "source": [
    "Finally, **Extract** will get the data from the tracked regions in the images. The output from **Extract** will be an array that will be indexed with the names defining *regions*, *channels*, and *metrics*.  There is a default set of metrics (e.g. area, median_intensity) that will be extracted. Other metrics from skimage.regionprops custom metric functions can be added using **Extract.add_extra_metric**. "
   ]
  },
  {
   "cell_type": "code",
   "execution_count": null,
   "id": "a760d93b",
   "metadata": {},
   "outputs": [],
   "source": [
    "ext = ctk.Extract(images=['channel000', 'channel001'], masks=['nuc'], regions=['nuc'], \n",
    "                    channels=['tritc', 'fitc'], time=10, min_trace_length=5, force_rerun=True)"
   ]
  },
  {
   "cell_type": "markdown",
   "id": "969b7e5c",
   "metadata": {},
   "source": [
    "Also available are *derived metrics*. *Derived metrics* refer to calculations that are done with data extracted from the images. For example, a common normalization strategy is to divide the reporter intensity by the marker intensity. The keys index the data in the same way that they will be indexed in the final data structure. *func* can by any *numpy* function."
   ]
  },
  {
   "cell_type": "code",
   "execution_count": null,
   "id": "9d98c489",
   "metadata": {},
   "outputs": [],
   "source": [
    "ext.add_derived_metric('median_ratio',\n",
    "                       keys=(['nuc', 'fitc', 'median_intensity'],\n",
    "                             ['nuc', 'tritc', 'median_intensity']),\n",
    "                       func='divide', inverse=True, propagate=True)"
   ]
  },
  {
   "cell_type": "markdown",
   "id": "cc2b5eda",
   "metadata": {},
   "source": [
    "The processing pipeline is now fully defined. The operation objects are passed to the **Pipeline**, which will run the images in the folder through the operations. "
   ]
  },
  {
   "cell_type": "code",
   "execution_count": null,
   "id": "977e96a1",
   "metadata": {
    "scrolled": false
   },
   "outputs": [],
   "source": [
    "pipe.add_operations([pro, seg, tra, ext])\n",
    "pipe.run()"
   ]
  },
  {
   "cell_type": "code",
   "execution_count": null,
   "id": "6908b0ef",
   "metadata": {},
   "outputs": [],
   "source": []
  }
 ],
 "metadata": {
  "kernelspec": {
   "display_name": "Python 3 (ipykernel)",
   "language": "python",
   "name": "python3"
  },
  "language_info": {
   "codemirror_mode": {
    "name": "ipython",
    "version": 3
   },
   "file_extension": ".py",
   "mimetype": "text/x-python",
   "name": "python",
   "nbconvert_exporter": "python",
   "pygments_lexer": "ipython3",
   "version": "3.8.6"
  }
 },
 "nbformat": 4,
 "nbformat_minor": 5
}
